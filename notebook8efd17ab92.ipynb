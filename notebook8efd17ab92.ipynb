{
 "cells": [
  {
   "cell_type": "code",
   "execution_count": 1,
   "id": "5fd7116f",
   "metadata": {
    "_cell_guid": "f426628c-19a4-4f80-8aff-a251b9dadcc5",
    "_uuid": "1bfe5c5e-a2b2-4217-b0cf-775d53bc19d1",
    "collapsed": false,
    "execution": {
     "iopub.execute_input": "2022-03-25T12:00:57.625486Z",
     "iopub.status.busy": "2022-03-25T12:00:57.624407Z",
     "iopub.status.idle": "2022-03-25T12:00:57.633408Z",
     "shell.execute_reply": "2022-03-25T12:00:57.633932Z",
     "shell.execute_reply.started": "2022-03-06T20:34:22.97754Z"
    },
    "jupyter": {
     "outputs_hidden": false
    },
    "papermill": {
     "duration": 0.019137,
     "end_time": "2022-03-25T12:00:57.634238",
     "exception": false,
     "start_time": "2022-03-25T12:00:57.615101",
     "status": "completed"
    },
    "tags": []
   },
   "outputs": [],
   "source": [
    "# This Python 3 environment comes with many helpful analytics libraries installed\n",
    "# It is defined by the kaggle/python Docker image: https://github.com/kaggle/docker-python\n",
    "# For example, here's several helpful packages to load\n",
    "\n",
    "import numpy as np # linear algebra\n",
    "import pandas as pd # data processing, CSV file I/O (e.g. pd.read_csv)\n",
    "\n",
    "# Input data files are available in the read-only \"../input/\" directory\n",
    "# For example, running this (by clicking run or pressing Shift+Enter) will list all files under the input directory\n",
    "\n",
    "import os\n",
    "for dirname, _, filenames in os.walk('/kaggle/input'):\n",
    "    for filename in filenames:\n",
    "        print(os.path.join(dirname, filename))\n",
    "\n",
    "# You can write up to 20GB to the current directory (/kaggle/working/) that gets preserved as output when you create a version using \"Save & Run All\" \n",
    "# You can also write temporary files to /kaggle/temp/, but they won't be saved outside of the current session"
   ]
  },
  {
   "cell_type": "code",
   "execution_count": 2,
   "id": "9e45d7cf",
   "metadata": {
    "execution": {
     "iopub.execute_input": "2022-03-25T12:00:57.646286Z",
     "iopub.status.busy": "2022-03-25T12:00:57.645732Z",
     "iopub.status.idle": "2022-03-25T12:00:57.650157Z",
     "shell.execute_reply": "2022-03-25T12:00:57.650655Z",
     "shell.execute_reply.started": "2022-03-25T11:59:33.588291Z"
    },
    "papermill": {
     "duration": 0.011784,
     "end_time": "2022-03-25T12:00:57.650833",
     "exception": false,
     "start_time": "2022-03-25T12:00:57.639049",
     "status": "completed"
    },
    "tags": []
   },
   "outputs": [
    {
     "name": "stdout",
     "output_type": "stream",
     "text": [
      "hello world\n"
     ]
    }
   ],
   "source": [
    "print (\"hello world\")"
   ]
  },
  {
   "cell_type": "code",
   "execution_count": null,
   "id": "36fdf01c",
   "metadata": {
    "papermill": {
     "duration": 0.004096,
     "end_time": "2022-03-25T12:00:57.659739",
     "exception": false,
     "start_time": "2022-03-25T12:00:57.655643",
     "status": "completed"
    },
    "tags": []
   },
   "outputs": [],
   "source": []
  },
  {
   "cell_type": "code",
   "execution_count": null,
   "id": "8ac790a3",
   "metadata": {
    "papermill": {
     "duration": 0.003953,
     "end_time": "2022-03-25T12:00:57.668007",
     "exception": false,
     "start_time": "2022-03-25T12:00:57.664054",
     "status": "completed"
    },
    "tags": []
   },
   "outputs": [],
   "source": []
  }
 ],
 "metadata": {
  "kernelspec": {
   "display_name": "Python 3",
   "language": "python",
   "name": "python3"
  },
  "language_info": {
   "codemirror_mode": {
    "name": "ipython",
    "version": 3
   },
   "file_extension": ".py",
   "mimetype": "text/x-python",
   "name": "python",
   "nbconvert_exporter": "python",
   "pygments_lexer": "ipython3",
   "version": "3.7.12"
  },
  "papermill": {
   "default_parameters": {},
   "duration": 10.306877,
   "end_time": "2022-03-25T12:00:58.483245",
   "environment_variables": {},
   "exception": null,
   "input_path": "__notebook__.ipynb",
   "output_path": "__notebook__.ipynb",
   "parameters": {},
   "start_time": "2022-03-25T12:00:48.176368",
   "version": "2.3.3"
  }
 },
 "nbformat": 4,
 "nbformat_minor": 5
}
